{
 "cells": [
  {
   "cell_type": "code",
   "execution_count": 1,
   "metadata": {
    "pycharm": {
     "name": "#%%\n"
    }
   },
   "outputs": [],
   "source": [
    "# Code were actual at February 2020"
   ]
  },
  {
   "cell_type": "code",
   "execution_count": 2,
   "metadata": {},
   "outputs": [],
   "source": [
    "import pandas as pd\n",
    "import requests\n",
    "import re\n",
    "from pdb2uniprot import get_uniprot, smiles2pdb"
   ]
  },
  {
   "cell_type": "markdown",
   "metadata": {
    "pycharm": {
     "name": "#%% md\n"
    }
   },
   "source": [
    "## Import PDB"
   ]
  },
  {
   "cell_type": "code",
   "execution_count": 7,
   "metadata": {},
   "outputs": [],
   "source": [
    "# smiles of fragment to search in PDB\n",
    "smiles = 'F'\n",
    "\n",
    "# make an substructure query in PDB database for wanted smiles\n",
    "url = \"https://www.rcsb.org/pdb/rest/smilesQuery?smiles=\" + smiles + \"&search_type=substructure\"\n",
    "query = requests.get(url)\n",
    "\n",
    "# find all PDBs, smiles (InChIKeys) with the smiles and create dataframe\n",
    "exceptions = []\n",
    "pdbs = re.findall('structureId=\"(.{4})\"', query.content.decode(\"utf8\"))\n",
    "smiles = re.findall('\\<smiles\\>(.*)\\<\\/smiles\\>', query.content.decode(\"utf8\")) \n",
    "\n",
    "table = pd.DataFrame(list(zip(pdbs, smiles)), columns = ['PDB_F', 'smiles_F'])"
   ]
  },
  {
   "cell_type": "code",
   "execution_count": 8,
   "metadata": {},
   "outputs": [
    {
     "name": "stdout",
     "output_type": "stream",
     "text": [
      "Warning! Uniprots not retrieved for []\n"
     ]
    }
   ],
   "source": [
    "df_result = table.copy()\n",
    "udict = get_uniprot(list(df_result['PDB_F'].values))"
   ]
  },
  {
   "cell_type": "code",
   "execution_count": 5,
   "metadata": {},
   "outputs": [],
   "source": [
    "# Write to table\n",
    "for pdb in udict:\n",
    "    df_result.loc[df_result[\"PDB_F\"] == pdb, 'Uniprot_F'] = udict[pdb]"
   ]
  },
  {
   "cell_type": "code",
   "execution_count": 6,
   "metadata": {},
   "outputs": [
    {
     "data": {
      "text/html": [
       "<div>\n",
       "<style scoped>\n",
       "    .dataframe tbody tr th:only-of-type {\n",
       "        vertical-align: middle;\n",
       "    }\n",
       "\n",
       "    .dataframe tbody tr th {\n",
       "        vertical-align: top;\n",
       "    }\n",
       "\n",
       "    .dataframe thead th {\n",
       "        text-align: right;\n",
       "    }\n",
       "</style>\n",
       "<table border=\"1\" class=\"dataframe\">\n",
       "  <thead>\n",
       "    <tr style=\"text-align: right;\">\n",
       "      <th></th>\n",
       "      <th>PDB_F</th>\n",
       "      <th>smiles_F</th>\n",
       "    </tr>\n",
       "  </thead>\n",
       "  <tbody>\n",
       "  </tbody>\n",
       "</table>\n",
       "</div>"
      ],
      "text/plain": [
       "Empty DataFrame\n",
       "Columns: [PDB_F, smiles_F]\n",
       "Index: []"
      ]
     },
     "execution_count": 6,
     "metadata": {},
     "output_type": "execute_result"
    }
   ],
   "source": [
    "tab_df = df_result.copy()\n",
    "df_result2 = pd.DataFrame(columns=tab_df.columns)\n",
    "for index, row in tab_df.iterrows():\n",
    "    pdb_Fs = row[\"Uniprot_F\"].split()\n",
    "    new_row = row.copy()\n",
    "    for pdb in pdb_Fs:\n",
    "        new_row[\"Uniprot_F\"] = pdb\n",
    "        temp_df = pd.DataFrame([list(new_row)], columns=df_result.columns)\n",
    "        df_result2 = df_result2.append(temp_df, ignore_index=True)\n",
    "df_result"
   ]
  },
  {
   "cell_type": "code",
   "execution_count": null,
   "metadata": {},
   "outputs": [],
   "source": [
    "# After F to H change:\n",
    "pdbs_list = smiles2pdb(smiles[\"smiles_H\"])"
   ]
  },
  {
   "cell_type": "code",
   "execution_count": null,
   "metadata": {},
   "outputs": [],
   "source": [
    "# Write the dictionary value for each pdb to a table\n",
    "for smi in smiles[\"smiles_H\"]:\n",
    "    smiles.loc[smiles[\"smiles_H\"] == smi, 'PDB_H'] = pdbs_list[smi]"
   ]
  },
  {
   "cell_type": "code",
   "execution_count": null,
   "metadata": {},
   "outputs": [],
   "source": [
    "tab_F = smiles.copy()\n",
    "df_result3 = pd.DataFrame(columns=tab_F.columns)\n",
    "for index, row in tab_F.iterrows():\n",
    "    pdb_Fs = row[\"PDB_H\"].split()\n",
    "    new_row = row.copy()\n",
    "    for pdb in pdb_Fs:\n",
    "        new_row[\"PDB_H\"] = pdb\n",
    "        temp_df = pd.DataFrame([list(new_row)], columns=df_result3.columns)\n",
    "        df_result3 = df_result.append(temp_df, ignore_index=True)\n",
    "df_result3"
   ]
  },
  {
   "cell_type": "code",
   "execution_count": null,
   "metadata": {},
   "outputs": [],
   "source": [
    "# Get UniProt for H - ligands\n",
    "df_result4 = df_result3.copy()\n",
    "udict = get_uniprot(list(df_result4['PDB_H'].values))"
   ]
  },
  {
   "cell_type": "code",
   "execution_count": null,
   "metadata": {},
   "outputs": [],
   "source": [
    "for pdb in udict:\n",
    "    df_result4.loc[df_result4[\"PDB_H\"] == pdb, 'Uniprot_H'] = udict[pdb]"
   ]
  },
  {
   "cell_type": "code",
   "execution_count": null,
   "metadata": {},
   "outputs": [],
   "source": [
    "tab_F = df_result4.copy()\n",
    "df_result5 = pd.DataFrame(columns=tab_F.columns)\n",
    "for index, row in tab_F.iterrows():\n",
    "    pdb_Fs = row[\"Uniprot_H\"].split()\n",
    "    new_row = row.copy()\n",
    "    for pdb in pdb_Fs:\n",
    "        new_row[\"Uniprot_H\"] = pdb\n",
    "        temp_df = pd.DataFrame([list(new_row)], columns=df_result.columns)\n",
    "        df_result5 = df_result5.append(temp_df, ignore_index=True)\n",
    "\n",
    "df_result.to_csv()"
   ]
  },
  {
   "cell_type": "markdown",
   "metadata": {
    "pycharm": {
     "name": "#%% md\n"
    }
   },
   "source": [
    "## Compare Uniprots"
   ]
  },
  {
   "cell_type": "markdown",
   "metadata": {
    "pycharm": {
     "name": "#%% md\n"
    }
   },
   "source": []
  },
  {
   "cell_type": "code",
   "execution_count": null,
   "metadata": {
    "pycharm": {
     "name": "#%%\n"
    }
   },
   "outputs": [],
   "source": [
    "table_H = df_result5.copy()\n",
    "table_F = pd.read_csv()"
   ]
  },
  {
   "cell_type": "code",
   "execution_count": null,
   "metadata": {
    "pycharm": {
     "name": "#%%\n"
    }
   },
   "outputs": [],
   "source": [
    "# convert table to a dictionary, where each smi_F value corresponds to one or more smi_H\n",
    "dict_F_H = table_F.groupby('smiles_F')['smiles_H'].apply(set).to_dict()\n",
    "\n",
    "dict_F_H"
   ]
  },
  {
   "cell_type": "code",
   "execution_count": null,
   "metadata": {
    "pycharm": {
     "name": "#%%\n"
    }
   },
   "outputs": [],
   "source": [
    "# create a dictionary, where each smiles from table_H corresponds to an array of uniprots\n",
    "smi_h_udictset = table_H.groupby('smiles_H')['Uniprot_H]'].apply(set).to_dict()\n",
    "smi_h_udictset"
   ]
  },
  {
   "cell_type": "code",
   "execution_count": null,
   "metadata": {
    "pycharm": {
     "name": "#%%\n"
    }
   },
   "outputs": [],
   "source": [
    "# create a dictionary, where each smiley from table_F corresponds to an array of uniprots\n",
    "smi_f_udictset = table_F.groupby('smiles_F')['Uniprot_F'].apply(set).to_dict()\n",
    "smi_f_udictset"
   ]
  },
  {
   "cell_type": "code",
   "execution_count": null,
   "metadata": {
    "pycharm": {
     "name": "#%%\n"
    }
   },
   "outputs": [],
   "source": [
    "# create dictionaries, where one pdb corresponds to an array of uniprots\n",
    "# H - ligands\n",
    "pdb_h_udictset = table_H.groupby('PDB_H')['Uniprot_H'].apply(set).to_dict()\n",
    "pdb_h_udictset\n",
    "\n",
    "# F - ligands\n",
    "pdb_f_udictset = table_F.groupby('PDB_F')['Uniprot_F'].apply(set).to_dict()\n",
    "pdb_f_udictset"
   ]
  },
  {
   "cell_type": "code",
   "execution_count": null,
   "metadata": {
    "pycharm": {
     "name": "#%%\n"
    }
   },
   "outputs": [],
   "source": [
    "# create dictionaries where one smiley corresponds to an array of pdb\n",
    "\n",
    "# H - ligands\n",
    "smi2pdb_h_udictset = table_H.groupby('smiles_H')['PDB_H'].apply(set).to_dict()\n",
    "smi2pdb_h_udictset\n",
    "\n",
    "# F - ligands\n",
    "smi2pdb_f_udictset = table_F.groupby('smiles_F')['PDB_F'].apply(set).to_dict()\n",
    "smi2pdb_f_udictset"
   ]
  },
  {
   "cell_type": "code",
   "execution_count": null,
   "metadata": {
    "pycharm": {
     "name": "#%%\n"
    }
   },
   "outputs": [],
   "source": [
    "# compare the values of 2 dictionaries and find intersections\n",
    "\n",
    "c = 0\n",
    "for smi_f, smi_h_list in dict_F_H.items():\n",
    "\n",
    "    for smi_h in smi_h_list:\n",
    "\n",
    "        if smi_h in smi_h_udictset:\n",
    "\n",
    "            try:\n",
    "                intersection = smi_f_udictset[smi_f].intersection(smi_h_udictset[smi_h])\n",
    "            except BaseException:\n",
    "                intersection = set()\n",
    "\n",
    "            if intersection:\n",
    "                c += 1\n",
    "\n",
    "                pdbs_f = smi2pdb_f_udictset[smi_f]\n",
    "                pdbs_h = smi2pdb_h_udictset[smi_h]\n",
    "\n",
    "\n",
    "                for pdb_f in pdbs_f:\n",
    "                    for pdb_h in pdbs_h:\n",
    "\n",
    "                        uniprots_f = pdb_f_udictset[pdb_f]\n",
    "                        uniprots_h = pdb_h_udictset[pdb_h]\n",
    "\n",
    "                        if intersection.issubset(uniprots_f) == True and intersection.issubset(uniprots_h) == True:\n",
    "\n",
    "                            print(pdb_f,',', pdb_h, ',', smi_f, ',', smi_h)"
   ]
  },
  {
   "cell_type": "markdown",
   "metadata": {
    "pycharm": {
     "name": "#%% md\n"
    }
   },
   "source": [
    "## PDB to Ki"
   ]
  },
  {
   "cell_type": "code",
   "execution_count": null,
   "metadata": {
    "pycharm": {
     "name": "#%%\n"
    }
   },
   "outputs": [],
   "source": [
    "from io import StringIO"
   ]
  },
  {
   "cell_type": "code",
   "execution_count": null,
   "metadata": {
    "pycharm": {
     "name": "#%%\n"
    }
   },
   "outputs": [],
   "source": [
    "# find experiment data for PDF(F) in MOAD"
   ]
  },
  {
   "cell_type": "code",
   "execution_count": null,
   "metadata": {
    "pycharm": {
     "name": "#%%\n"
    }
   },
   "outputs": [],
   "source": [
    "def get_binding_activity_df(pdb):\n",
    "\n",
    "    url = \"http://www.bindingmoad.org/files/csv/\" + pdb.lower() + \".csv\"\n",
    "    query = requests.get(url)\n",
    "\n",
    "\n",
    "    if query.status_code == requests.codes.ok:\n",
    "\n",
    "        string = query.content.decode(\"utf8\")\n",
    "\n",
    "        string_io = StringIO(string)\n",
    "        df = pd.read_csv(string_io)\n",
    "\n",
    "        return df\n",
    "    else:\n",
    "        print(f\"ligand {pdb} not found in mom database\")"
   ]
  },
  {
   "cell_type": "code",
   "execution_count": null,
   "metadata": {
    "pycharm": {
     "name": "#%%\n"
    }
   },
   "outputs": [],
   "source": [
    "def extract_binding_data(df):\n",
    "\n",
    "    types = \"Unnamed: 4\"\n",
    "    activity = \"Unnamed: 6\"\n",
    "    conc_name = \"Unnamed: 7\"\n",
    "\n",
    "    data = []\n",
    "    for i, row in df.iterrows():\n",
    "        data_dict = {}\n",
    "        if row[\"Unnamed: 3\"] == \"valid\":\n",
    "            a = row[types]\n",
    "            b = row[activity]\n",
    "            c = row[conc_name]\n",
    "\n",
    "            if pd.isna(a) or pd.isna(b) or pd.isna(c):\n",
    "                print(\"ligand was found, but data is missing\")\n",
    "            else:\n",
    "                data_dict.update({\"type\": a,\n",
    "                                  \"activity\": b,\n",
    "                                  \"conc_name\": c})\n",
    "                data.append(data_dict)\n",
    "                data = pd.DataFrame(data).drop_duplicates().to_dict('records')\n",
    "    return data"
   ]
  },
  {
   "cell_type": "code",
   "execution_count": null,
   "metadata": {
    "pycharm": {
     "name": "#%%\n"
    }
   },
   "outputs": [],
   "source": [
    "dfc = table.copy()"
   ]
  },
  {
   "cell_type": "code",
   "execution_count": null,
   "metadata": {
    "pycharm": {
     "name": "#%%\n"
    }
   },
   "outputs": [],
   "source": [
    "df_new = pd.DataFrame(columns=[*dfc.columns, \"type\", \"activity\", 'conc_name'])\n",
    "\n",
    "for i, row in dfc.iterrows():\n",
    "    pdb = row['PDB_H']\n",
    "    actdf = get_binding_activity_df(pdb)\n",
    "    if actdf is not None:\n",
    "\n",
    "        actdata = extract_binding_data(actdf)\n",
    "        for mini_data in actdata:\n",
    "            row_df = pd.DataFrame([[*row.values, mini_data[\"type\"],\n",
    "                                                 mini_data[\"activity\"],\n",
    "                                                 mini_data['conc_name']]], columns=df_new.columns)\n",
    "            df_new = df_new.append(row_df, ignore_index=True)\n",
    "df_new"
   ]
  },
  {
   "cell_type": "code",
   "execution_count": null,
   "metadata": {
    "pycharm": {
     "name": "#%%\n"
    }
   },
   "outputs": [],
   "source": [
    "dfc = table_F.copy()"
   ]
  },
  {
   "cell_type": "code",
   "execution_count": null,
   "metadata": {
    "pycharm": {
     "name": "#%%\n"
    }
   },
   "outputs": [],
   "source": [
    "df_new = pd.DataFrame(columns=[*dfc.columns, \"type\", \"activity\", 'conc_name'])\n",
    "\n",
    "for i, row in dfc.iterrows():\n",
    "    pdb = row['PDB_H']\n",
    "    actdf = get_binding_activity_df(pdb)\n",
    "    if actdf is not None:\n",
    "\n",
    "        actdata = extract_binding_data(actdf)\n",
    "        for mini_data in actdata:\n",
    "            row_df = pd.DataFrame([[*row.values, mini_data[\"type\"],\n",
    "                                                 mini_data[\"activity\"],\n",
    "                                                 mini_data['conc_name']]], columns=df_new.columns)\n",
    "            df_new = df_new.append(row_df, ignore_index=True)\n",
    "\n",
    "df_new"
   ]
  },
  {
   "cell_type": "code",
   "execution_count": null,
   "metadata": {
    "pycharm": {
     "name": "#%%\n"
    }
   },
   "outputs": [],
   "source": [
    "def pdb2pubmed(pdb_list):\n",
    "    \"\"\"\n",
    "    Converts list of pdb to dict {pdb: pubmed} based on PDB bank\n",
    "    \"\"\"\n",
    "    exceptions = []\n",
    "\n",
    "    result = {}\n",
    "    for pdb in pdb_list:\n",
    "        url = \"https://www.rcsb.org/pdb/rest/describePDB?structureId=\" + pdb\n",
    "        try:\n",
    "            pdbdir = requests.get(url)\n",
    "        except requests.exceptions.RequestException:\n",
    "            print(f\"Exception for {smi} (pdb -> pubmed)\")\n",
    "            exceptions.append(smi)\n",
    "        pdbsF = re.findall('pubmedId=\"(.{8})\"', pdbdir.content.decode(\"utf8\"))\n",
    "        pdbsF = list(set(pdbsF))\n",
    "        string = \" \".join(pdbsF)\n",
    "        print(string)\n",
    "        result[pdb] = string\n",
    "    return result"
   ]
  },
  {
   "cell_type": "code",
   "execution_count": null,
   "metadata": {
    "pycharm": {
     "name": "#%%\n"
    }
   },
   "outputs": [],
   "source": [
    "table2 = table.copy()\n",
    "\n",
    "table2['PubMedId_H'] = \"\"\n",
    "pubmed = pdb2pubmed(table['PDB_F'])\n",
    "for pdb in pubmed:\n",
    "    table2.loc[table2[\"PDB_F\"] == pdb, 'PubMedId_F'] = pubmed[pdb]\n",
    "\n",
    "pubmed = pdb2pubmed(table['PDB_H'])\n",
    "for pdb in pubmed:\n",
    "    table2.loc[table2[\"PDB_H\"] == pdb, 'PubMedId_H'] = pubmed[pdb]"
   ]
  },
  {
   "cell_type": "code",
   "execution_count": null,
   "metadata": {
    "pycharm": {
     "name": "#%%\n"
    }
   },
   "outputs": [],
   "source": [
    "# Compare PubMedId_F & PubMedId_H\n",
    "table3 = table2.copy()\n",
    "\n",
    "table3['compare'] = \"\"\n",
    "for PubMedId_F in table3['PubMedId_F']:\n",
    "    table3.loc[table3[\"PubMedId_F\"] == table3[\"PubMedId_H\"], 'compare'] = \"same experiment\""
   ]
  }
 ],
 "metadata": {
  "kernelspec": {
   "display_name": "Python 3 (ipykernel)",
   "language": "python",
   "name": "python3"
  },
  "language_info": {
   "codemirror_mode": {
    "name": "ipython",
    "version": 3
   },
   "file_extension": ".py",
   "mimetype": "text/x-python",
   "name": "python",
   "nbconvert_exporter": "python",
   "pygments_lexer": "ipython3",
   "version": "3.10.8"
  }
 },
 "nbformat": 4,
 "nbformat_minor": 4
}
